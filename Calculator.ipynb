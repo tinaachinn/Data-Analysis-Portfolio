{
 "cells": [
  {
   "cell_type": "code",
   "execution_count": 1,
   "id": "d4335b74-bd86-43bd-975d-c9fbfecee78a",
   "metadata": {},
   "outputs": [],
   "source": [
    "def add(x,y):\n",
    "    return x + y\n",
    "\n",
    "def subtract(x,y):\n",
    "    return x - y\n",
    "\n",
    "def multiply(x,y):\n",
    "    return x * y\n",
    "\n",
    "def divide(x,y):\n",
    "    return x / y"
   ]
  },
  {
   "cell_type": "code",
   "execution_count": 3,
   "id": "b28ae9c2-4263-4678-a441-4b85cd9e297b",
   "metadata": {},
   "outputs": [
    {
     "name": "stdin",
     "output_type": "stream",
     "text": [
      "Enter Choice (A,S,M,D):  A\n",
      "Enter first number:  1\n",
      "Enter second number:  2\n"
     ]
    }
   ],
   "source": [
    "choice = input('Enter Choice (A,S,M,D): ')\n",
    "\n",
    "num1 = float(input('Enter first number: '))\n",
    "\n",
    "num2 = float(input('Enter second number: '))"
   ]
  },
  {
   "cell_type": "code",
   "execution_count": 9,
   "id": "d0b8b4b2-bc2a-49b9-ad24-7a86bb7e058e",
   "metadata": {},
   "outputs": [
    {
     "name": "stdout",
     "output_type": "stream",
     "text": [
      "Enter 'A' for Additon.\n",
      "Enter 'S' for Subtraction.\n",
      "Enter 'M' for Multiplication.\n",
      "Enter 'D' for Division.\n"
     ]
    },
    {
     "name": "stdin",
     "output_type": "stream",
     "text": [
      "Enter Choice (A,S,M,D):  a\n",
      "Enter first number:  10\n",
      "Enter second number:  20\n"
     ]
    },
    {
     "name": "stdout",
     "output_type": "stream",
     "text": [
      "Result: 10.0 + 20.0 = 30.0\n"
     ]
    },
    {
     "name": "stdin",
     "output_type": "stream",
     "text": [
      "Want to do another calculation? (yes/no):  no\n"
     ]
    }
   ],
   "source": [
    "print(\"Enter 'A' for Additon.\")\n",
    "print(\"Enter 'S' for Subtraction.\")\n",
    "print(\"Enter 'M' for Multiplication.\")\n",
    "print(\"Enter 'D' for Division.\")\n",
    "\n",
    "while True:\n",
    "    choice = input('Enter Choice (A,S,M,D): ')\n",
    "    \n",
    "    if choice.upper() in ('A','ADD','ADDITION','S','SUBTRACT','SUBTRACTION','M','MULTIPLY','MULTIPLICATION','D','DIVIDE','DIVISION'):\n",
    "        num1 = float(input('Enter first number: '))\n",
    "        num2 = float(input('Enter second number: '))\n",
    "        \n",
    "        if choice.upper() in ('A','ADD','ADDITION'):\n",
    "            print('Result:', num1, '+', num2, '=', add(num1,num2))\n",
    "    \n",
    "        elif choice.upper() in ('S','SUBTRACT','SUBTRACTION'):\n",
    "            print('Result:', num1, '-', num2, '=', subtract(num1,num2))\n",
    "    \n",
    "        elif choice.upper() in ('M','MULTIPLY','MULTIPLICATION'):\n",
    "            print('Result:', num1, '*', num2, '=', multiply(num1,num2))\n",
    "    \n",
    "        elif choice.upper() in ('D','DIVIDE','DIVISION'):\n",
    "            print('Result:', num1, '/', num2, '=', divide(num1,num2))\n",
    "    \n",
    "    else:\n",
    "        print(\"Please input a correct choice.\")\n",
    "\n",
    "    next_calculation = input(\"Want to do another calculation? (yes/no): \")\n",
    "    if next_calculation.lower() in ('no','n','nope'):\n",
    "        break\n",
    "        "
   ]
  },
  {
   "cell_type": "code",
   "execution_count": null,
   "id": "cafce179-56cb-426c-acb8-151d5b986a70",
   "metadata": {},
   "outputs": [],
   "source": []
  },
  {
   "cell_type": "code",
   "execution_count": null,
   "id": "51d1604f-ccfb-4bee-847a-73957b1eeb86",
   "metadata": {},
   "outputs": [],
   "source": []
  },
  {
   "cell_type": "code",
   "execution_count": null,
   "id": "0e76bb60-0ebd-43fd-8107-82b29f26f1cf",
   "metadata": {},
   "outputs": [],
   "source": []
  },
  {
   "cell_type": "code",
   "execution_count": null,
   "id": "c7f914a3-cb83-4d7c-86c8-c21d2cd0805f",
   "metadata": {},
   "outputs": [],
   "source": []
  },
  {
   "cell_type": "code",
   "execution_count": null,
   "id": "ec4296a9-d478-4294-aa7d-052184bb283a",
   "metadata": {},
   "outputs": [],
   "source": []
  },
  {
   "cell_type": "code",
   "execution_count": null,
   "id": "d263dc8a-a6d7-423e-9f1b-ddeb96fa323c",
   "metadata": {},
   "outputs": [],
   "source": []
  },
  {
   "cell_type": "code",
   "execution_count": null,
   "id": "93273365-887a-42a4-b715-af2be86e120a",
   "metadata": {},
   "outputs": [],
   "source": []
  }
 ],
 "metadata": {
  "kernelspec": {
   "display_name": "Python 3 (ipykernel)",
   "language": "python",
   "name": "python3"
  },
  "language_info": {
   "codemirror_mode": {
    "name": "ipython",
    "version": 3
   },
   "file_extension": ".py",
   "mimetype": "text/x-python",
   "name": "python",
   "nbconvert_exporter": "python",
   "pygments_lexer": "ipython3",
   "version": "3.12.7"
  }
 },
 "nbformat": 4,
 "nbformat_minor": 5
}
