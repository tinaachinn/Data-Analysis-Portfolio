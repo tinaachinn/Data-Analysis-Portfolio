{
 "cells": [
  {
   "cell_type": "code",
   "execution_count": 1,
   "id": "ab53f363-5e0a-47ee-8fda-fad92d9b3ff0",
   "metadata": {},
   "outputs": [],
   "source": [
    "from bs4 import BeautifulSoup\n",
    "import requests"
   ]
  },
  {
   "cell_type": "code",
   "execution_count": 2,
   "id": "836c23f9-9cd5-4a90-95b9-4eaea9bdf83a",
   "metadata": {},
   "outputs": [],
   "source": [
    "url = 'https://coinmarketcap.com/currencies/bitcoin/'\n",
    "\n",
    "page = requests.get(url)\n",
    "\n",
    "soup = BeautifulSoup(page.text, 'html')"
   ]
  },
  {
   "cell_type": "code",
   "execution_count": 7,
   "id": "d349d934-73c7-4596-a965-1377ecee872c",
   "metadata": {},
   "outputs": [
    {
     "name": "stdout",
     "output_type": "stream",
     "text": [
      "Bitcoin price\n"
     ]
    }
   ],
   "source": [
    "crypto_name = soup.find('span', class_ = 'sc-65e7f566-0 lsTl').text\n",
    "print(crypto_name)"
   ]
  },
  {
   "cell_type": "code",
   "execution_count": 16,
   "id": "dcee9944-9113-425e-a1ea-6757f55bd938",
   "metadata": {},
   "outputs": [
    {
     "data": {
      "text/plain": [
       "<span class=\"sc-65e7f566-0 esyGGG base-text\" data-test=\"text-cdp-price-display\">$107,365.35</span>"
      ]
     },
     "execution_count": 16,
     "metadata": {},
     "output_type": "execute_result"
    }
   ],
   "source": [
    "soup.find('span', {'data-test': 'text-cdp-price-display'})"
   ]
  },
  {
   "cell_type": "code",
   "execution_count": 17,
   "id": "fc12de32-54bb-4c57-bece-48a1f13e51e6",
   "metadata": {},
   "outputs": [
    {
     "data": {
      "text/plain": [
       "'$107,365.35'"
      ]
     },
     "execution_count": 17,
     "metadata": {},
     "output_type": "execute_result"
    }
   ],
   "source": [
    "soup.find('span', {'data-test': 'text-cdp-price-display'}).text"
   ]
  },
  {
   "cell_type": "code",
   "execution_count": 18,
   "id": "54ff0c86-26e8-4940-8d26-8966ec1760eb",
   "metadata": {},
   "outputs": [],
   "source": [
    "crypto_price = soup.find('span', {'data-test': 'text-cdp-price-display'}).text"
   ]
  },
  {
   "cell_type": "code",
   "execution_count": 19,
   "id": "dc887d3e-3d80-4de7-be48-6618f4609962",
   "metadata": {},
   "outputs": [],
   "source": [
    "final_price = crypto_price.replace('$','')"
   ]
  },
  {
   "cell_type": "code",
   "execution_count": 20,
   "id": "5ba0daeb-1659-4fab-a64d-662dcc20532f",
   "metadata": {},
   "outputs": [
    {
     "data": {
      "text/plain": [
       "'107,365.35'"
      ]
     },
     "execution_count": 20,
     "metadata": {},
     "output_type": "execute_result"
    }
   ],
   "source": [
    "final_price"
   ]
  },
  {
   "cell_type": "code",
   "execution_count": 22,
   "id": "d5cec938-e071-4d95-9c39-6385aee3e5a4",
   "metadata": {},
   "outputs": [],
   "source": [
    "import pandas as pd"
   ]
  },
  {
   "cell_type": "code",
   "execution_count": 25,
   "id": "952f0578-924f-4e2a-afcf-b85c4599a06b",
   "metadata": {},
   "outputs": [
    {
     "name": "stdout",
     "output_type": "stream",
     "text": [
      "2025-06-28 18:03:09.721929\n"
     ]
    }
   ],
   "source": [
    "from datetime import datetime\n",
    "\n",
    "date_time = datetime.now()\n",
    "\n",
    "print(date_time)"
   ]
  },
  {
   "cell_type": "code",
   "execution_count": 28,
   "id": "f05480cb-5381-4e65-a2eb-9c50c44b4579",
   "metadata": {},
   "outputs": [
    {
     "data": {
      "text/html": [
       "<div>\n",
       "<style scoped>\n",
       "    .dataframe tbody tr th:only-of-type {\n",
       "        vertical-align: middle;\n",
       "    }\n",
       "\n",
       "    .dataframe tbody tr th {\n",
       "        vertical-align: top;\n",
       "    }\n",
       "\n",
       "    .dataframe thead th {\n",
       "        text-align: right;\n",
       "    }\n",
       "</style>\n",
       "<table border=\"1\" class=\"dataframe\">\n",
       "  <thead>\n",
       "    <tr style=\"text-align: right;\">\n",
       "      <th></th>\n",
       "      <th>Crypto Name</th>\n",
       "      <th>Price</th>\n",
       "      <th>TimeStamp</th>\n",
       "    </tr>\n",
       "  </thead>\n",
       "  <tbody>\n",
       "    <tr>\n",
       "      <th>0</th>\n",
       "      <td>Bitcoin price</td>\n",
       "      <td>107,365.35</td>\n",
       "      <td>2025-06-28 18:04:17.348659</td>\n",
       "    </tr>\n",
       "  </tbody>\n",
       "</table>\n",
       "</div>"
      ],
      "text/plain": [
       "     Crypto Name       Price                  TimeStamp\n",
       "0  Bitcoin price  107,365.35 2025-06-28 18:04:17.348659"
      ]
     },
     "execution_count": 28,
     "metadata": {},
     "output_type": "execute_result"
    }
   ],
   "source": [
    "date_time = datetime.now()\n",
    "\n",
    "dict = {'Crypto Name': crypto_name,\n",
    "        'Price': final_price,\n",
    "        'TimeStamp':date_time}\n",
    "\n",
    "df = pd.DataFrame([dict])\n",
    "df"
   ]
  },
  {
   "cell_type": "code",
   "execution_count": 29,
   "id": "a1805020-327f-4e75-847b-cda00d913742",
   "metadata": {},
   "outputs": [],
   "source": [
    "df.to_csv(r'C:\\Users\\TINA\\Desktop\\Projects\\Python\\Crypto Web Puller\\Crypto_Automated_Pull.csv')"
   ]
  },
  {
   "cell_type": "code",
   "execution_count": null,
   "id": "83825a98-492e-4795-af3e-21e6144865da",
   "metadata": {},
   "outputs": [],
   "source": [
    "import os"
   ]
  },
  {
   "cell_type": "code",
   "execution_count": null,
   "id": "7e50a67a-d4bb-4fb2-8b01-782c922c8c83",
   "metadata": {},
   "outputs": [],
   "source": [
    "if os.path.exists(r'C:\\Users\\TINA\\Desktop\\Projects\\Python\\Crypto Web Puller\\Crypto_Automated_Pull.csv'):\n",
    "    df.to_csv(r'C:\\Users\\TINA\\Desktop\\Projects\\Python\\Crypto Web Puller\\Crypto_Automated_Pull.csv', mode ='a', header = False, index = False)\n",
    "else:\n",
    "    df.to_csv(r'C:\\Users\\TINA\\Desktop\\Projects\\Python\\Crypto Web Puller\\Crypto_Automated_Pull.csv')"
   ]
  },
  {
   "cell_type": "markdown",
   "id": "9fc4f46b-1954-4296-bad5-646fc001dee8",
   "metadata": {},
   "source": [
    "# Let's put it all together"
   ]
  },
  {
   "cell_type": "code",
   "execution_count": 34,
   "id": "4e0fe6fc-7637-4adf-8b67-c0553f49cb3c",
   "metadata": {},
   "outputs": [],
   "source": [
    "from bs4 import BeautifulSoup\n",
    "import requests\n",
    "import pandas as pd\n",
    "from datetime import datetime\n",
    "import os\n",
    "import time"
   ]
  },
  {
   "cell_type": "code",
   "execution_count": 36,
   "id": "e32706a5-4560-403d-ad30-da9722db7461",
   "metadata": {},
   "outputs": [],
   "source": [
    "def automated_crypto_pull():\n",
    "    url = 'https://coinmarketcap.com/currencies/bitcoin/'\n",
    "    \n",
    "    page = requests.get(url)\n",
    "    \n",
    "    soup = BeautifulSoup(page.text, 'html')\n",
    "    \n",
    "    crypto_name = soup.find('span', class_ = 'sc-65e7f566-0 lsTl').text\n",
    "    \n",
    "    crypto_price = soup.find('span', {'data-test': 'text-cdp-price-display'}).text\n",
    "    \n",
    "    final_price = crypto_price.replace('$','')\n",
    "    \n",
    "    date_time = datetime.now()\n",
    "    \n",
    "    dict = {'Crypto Name': crypto_name,\n",
    "            'Price': final_price,\n",
    "            'TimeStamp':date_time}\n",
    "    \n",
    "    df = pd.DataFrame([dict])\n",
    "    \n",
    "    if os.path.exists(r'C:\\Users\\TINA\\Desktop\\Projects\\Python\\Crypto Web Puller\\Crypto_Automated_Pull.csv'):\n",
    "        df.to_csv(r'C:\\Users\\TINA\\Desktop\\Projects\\Python\\Crypto Web Puller\\Crypto_Automated_Pull.csv', mode ='a', header = False, index = False)\n",
    "    else:\n",
    "        df.to_csv(r'C:\\Users\\TINA\\Desktop\\Projects\\Python\\Crypto Web Puller\\Crypto_Automated_Pull.csv', index = False)"
   ]
  },
  {
   "cell_type": "code",
   "execution_count": null,
   "id": "f4c3a441-2f46-4696-8ff5-6bf8ee6680db",
   "metadata": {},
   "outputs": [],
   "source": [
    "while True:\n",
    "    automated_crypto_pull()\n",
    "    time.sleep(10)"
   ]
  }
 ],
 "metadata": {
  "kernelspec": {
   "display_name": "Python 3 (ipykernel)",
   "language": "python",
   "name": "python3"
  },
  "language_info": {
   "codemirror_mode": {
    "name": "ipython",
    "version": 3
   },
   "file_extension": ".py",
   "mimetype": "text/x-python",
   "name": "python",
   "nbconvert_exporter": "python",
   "pygments_lexer": "ipython3",
   "version": "3.12.7"
  }
 },
 "nbformat": 4,
 "nbformat_minor": 5
}
